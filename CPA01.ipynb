{
 "cells": [
  {
   "cell_type": "code",
   "execution_count": 2,
   "metadata": {},
   "outputs": [],
   "source": [
    "import pandas as pd"
   ]
  },
  {
   "cell_type": "code",
   "execution_count": 3,
   "metadata": {},
   "outputs": [
    {
     "data": {
      "text/html": [
       "<div>\n",
       "<style scoped>\n",
       "    .dataframe tbody tr th:only-of-type {\n",
       "        vertical-align: middle;\n",
       "    }\n",
       "\n",
       "    .dataframe tbody tr th {\n",
       "        vertical-align: top;\n",
       "    }\n",
       "\n",
       "    .dataframe thead th {\n",
       "        text-align: right;\n",
       "    }\n",
       "</style>\n",
       "<table border=\"1\" class=\"dataframe\">\n",
       "  <thead>\n",
       "    <tr style=\"text-align: right;\">\n",
       "      <th></th>\n",
       "      <th>Date</th>\n",
       "      <th>Open</th>\n",
       "      <th>High</th>\n",
       "      <th>Low</th>\n",
       "      <th>Close</th>\n",
       "      <th>Adj Close</th>\n",
       "      <th>Volume</th>\n",
       "    </tr>\n",
       "  </thead>\n",
       "  <tbody>\n",
       "    <tr>\n",
       "      <th>0</th>\n",
       "      <td>2010-06-29</td>\n",
       "      <td>3.800</td>\n",
       "      <td>5.000</td>\n",
       "      <td>3.508</td>\n",
       "      <td>4.778</td>\n",
       "      <td>4.778</td>\n",
       "      <td>93831500</td>\n",
       "    </tr>\n",
       "    <tr>\n",
       "      <th>1</th>\n",
       "      <td>2010-06-30</td>\n",
       "      <td>5.158</td>\n",
       "      <td>6.084</td>\n",
       "      <td>4.660</td>\n",
       "      <td>4.766</td>\n",
       "      <td>4.766</td>\n",
       "      <td>85935500</td>\n",
       "    </tr>\n",
       "    <tr>\n",
       "      <th>2</th>\n",
       "      <td>2010-07-01</td>\n",
       "      <td>5.000</td>\n",
       "      <td>5.184</td>\n",
       "      <td>4.054</td>\n",
       "      <td>4.392</td>\n",
       "      <td>4.392</td>\n",
       "      <td>41094000</td>\n",
       "    </tr>\n",
       "    <tr>\n",
       "      <th>3</th>\n",
       "      <td>2010-07-02</td>\n",
       "      <td>4.600</td>\n",
       "      <td>4.620</td>\n",
       "      <td>3.742</td>\n",
       "      <td>3.840</td>\n",
       "      <td>3.840</td>\n",
       "      <td>25699000</td>\n",
       "    </tr>\n",
       "    <tr>\n",
       "      <th>4</th>\n",
       "      <td>2010-07-06</td>\n",
       "      <td>4.000</td>\n",
       "      <td>4.000</td>\n",
       "      <td>3.166</td>\n",
       "      <td>3.222</td>\n",
       "      <td>3.222</td>\n",
       "      <td>34334500</td>\n",
       "    </tr>\n",
       "  </tbody>\n",
       "</table>\n",
       "</div>"
      ],
      "text/plain": [
       "         Date   Open   High    Low  Close  Adj Close    Volume\n",
       "0  2010-06-29  3.800  5.000  3.508  4.778      4.778  93831500\n",
       "1  2010-06-30  5.158  6.084  4.660  4.766      4.766  85935500\n",
       "2  2010-07-01  5.000  5.184  4.054  4.392      4.392  41094000\n",
       "3  2010-07-02  4.600  4.620  3.742  3.840      3.840  25699000\n",
       "4  2010-07-06  4.000  4.000  3.166  3.222      3.222  34334500"
      ]
     },
     "execution_count": 3,
     "metadata": {},
     "output_type": "execute_result"
    }
   ],
   "source": [
    "TSLA = pd.read_csv('TSLA.csv')\n",
    "TSLA.head()"
   ]
  },
  {
   "cell_type": "markdown",
   "metadata": {},
   "source": [
    "The dataset described Tesla's stock price for the past 12 years. It can be downloaded from https://finance.yahoo.com/quote/TSLA/history?period1=1489017600&period2=1646784000&interval=1d&filter=history&frequency=1d&includeAdjustedClose=true, set the time frame to 12Y and download the CSV. \n",
    "Two interested questions for this dataset:\n",
    "1. How Tesla's stock price changed over the past 12 years (Adj close)\n",
    "2. What is the trend on the trading volume for Tesla's stock"
   ]
  },
  {
   "cell_type": "code",
   "execution_count": 4,
   "metadata": {},
   "outputs": [
    {
     "data": {
      "text/html": [
       "<div>\n",
       "<style scoped>\n",
       "    .dataframe tbody tr th:only-of-type {\n",
       "        vertical-align: middle;\n",
       "    }\n",
       "\n",
       "    .dataframe tbody tr th {\n",
       "        vertical-align: top;\n",
       "    }\n",
       "\n",
       "    .dataframe thead th {\n",
       "        text-align: right;\n",
       "    }\n",
       "</style>\n",
       "<table border=\"1\" class=\"dataframe\">\n",
       "  <thead>\n",
       "    <tr style=\"text-align: right;\">\n",
       "      <th></th>\n",
       "      <th>Open</th>\n",
       "      <th>High</th>\n",
       "      <th>Low</th>\n",
       "      <th>Close</th>\n",
       "      <th>Adj Close</th>\n",
       "      <th>Volume</th>\n",
       "    </tr>\n",
       "  </thead>\n",
       "  <tbody>\n",
       "    <tr>\n",
       "      <th>count</th>\n",
       "      <td>2944.000000</td>\n",
       "      <td>2944.000000</td>\n",
       "      <td>2944.000000</td>\n",
       "      <td>2944.000000</td>\n",
       "      <td>2944.000000</td>\n",
       "      <td>2.944000e+03</td>\n",
       "    </tr>\n",
       "    <tr>\n",
       "      <th>mean</th>\n",
       "      <td>135.711730</td>\n",
       "      <td>138.682414</td>\n",
       "      <td>132.500325</td>\n",
       "      <td>135.725117</td>\n",
       "      <td>135.725117</td>\n",
       "      <td>3.133403e+07</td>\n",
       "    </tr>\n",
       "    <tr>\n",
       "      <th>std</th>\n",
       "      <td>246.107233</td>\n",
       "      <td>251.705027</td>\n",
       "      <td>239.865457</td>\n",
       "      <td>246.003069</td>\n",
       "      <td>246.003069</td>\n",
       "      <td>2.803626e+07</td>\n",
       "    </tr>\n",
       "    <tr>\n",
       "      <th>min</th>\n",
       "      <td>3.228000</td>\n",
       "      <td>3.326000</td>\n",
       "      <td>2.996000</td>\n",
       "      <td>3.160000</td>\n",
       "      <td>3.160000</td>\n",
       "      <td>5.925000e+05</td>\n",
       "    </tr>\n",
       "    <tr>\n",
       "      <th>25%</th>\n",
       "      <td>19.345001</td>\n",
       "      <td>19.824500</td>\n",
       "      <td>18.968999</td>\n",
       "      <td>19.456499</td>\n",
       "      <td>19.456499</td>\n",
       "      <td>1.306600e+07</td>\n",
       "    </tr>\n",
       "    <tr>\n",
       "      <th>50%</th>\n",
       "      <td>46.535000</td>\n",
       "      <td>47.255001</td>\n",
       "      <td>45.705000</td>\n",
       "      <td>46.466000</td>\n",
       "      <td>46.466000</td>\n",
       "      <td>2.490740e+07</td>\n",
       "    </tr>\n",
       "    <tr>\n",
       "      <th>75%</th>\n",
       "      <td>67.834503</td>\n",
       "      <td>68.965498</td>\n",
       "      <td>66.666500</td>\n",
       "      <td>67.740000</td>\n",
       "      <td>67.740000</td>\n",
       "      <td>3.976950e+07</td>\n",
       "    </tr>\n",
       "    <tr>\n",
       "      <th>max</th>\n",
       "      <td>1234.410034</td>\n",
       "      <td>1243.489990</td>\n",
       "      <td>1217.000000</td>\n",
       "      <td>1229.910034</td>\n",
       "      <td>1229.910034</td>\n",
       "      <td>3.046940e+08</td>\n",
       "    </tr>\n",
       "  </tbody>\n",
       "</table>\n",
       "</div>"
      ],
      "text/plain": [
       "              Open         High          Low        Close    Adj Close  \\\n",
       "count  2944.000000  2944.000000  2944.000000  2944.000000  2944.000000   \n",
       "mean    135.711730   138.682414   132.500325   135.725117   135.725117   \n",
       "std     246.107233   251.705027   239.865457   246.003069   246.003069   \n",
       "min       3.228000     3.326000     2.996000     3.160000     3.160000   \n",
       "25%      19.345001    19.824500    18.968999    19.456499    19.456499   \n",
       "50%      46.535000    47.255001    45.705000    46.466000    46.466000   \n",
       "75%      67.834503    68.965498    66.666500    67.740000    67.740000   \n",
       "max    1234.410034  1243.489990  1217.000000  1229.910034  1229.910034   \n",
       "\n",
       "             Volume  \n",
       "count  2.944000e+03  \n",
       "mean   3.133403e+07  \n",
       "std    2.803626e+07  \n",
       "min    5.925000e+05  \n",
       "25%    1.306600e+07  \n",
       "50%    2.490740e+07  \n",
       "75%    3.976950e+07  \n",
       "max    3.046940e+08  "
      ]
     },
     "execution_count": 4,
     "metadata": {},
     "output_type": "execute_result"
    }
   ],
   "source": [
    "#Describe the data\n",
    "TSLA.describe()"
   ]
  },
  {
   "cell_type": "code",
   "execution_count": 15,
   "metadata": {},
   "outputs": [
    {
     "data": {
      "text/plain": [
       "Index(['Date', 'Open', 'High', 'Low', 'Close', 'Adj Close', 'Volume'], dtype='object')"
      ]
     },
     "execution_count": 15,
     "metadata": {},
     "output_type": "execute_result"
    }
   ],
   "source": [
    "TSLA.columns"
   ]
  },
  {
   "cell_type": "code",
   "execution_count": 16,
   "metadata": {},
   "outputs": [
    {
     "data": {
      "text/plain": [
       "<PandasArray>\n",
       "[   0,    1,    2,    3,    4,    5,    6,    7,    8,    9,\n",
       " ...\n",
       " 2934, 2935, 2936, 2937, 2938, 2939, 2940, 2941, 2942, 2943]\n",
       "Length: 2944, dtype: int64"
      ]
     },
     "execution_count": 16,
     "metadata": {},
     "output_type": "execute_result"
    }
   ],
   "source": [
    "TSLA.index.array"
   ]
  },
  {
   "cell_type": "code",
   "execution_count": 17,
   "metadata": {},
   "outputs": [
    {
     "data": {
      "text/plain": [
       "<matplotlib.axes._subplots.AxesSubplot at 0xac15a30>"
      ]
     },
     "execution_count": 17,
     "metadata": {},
     "output_type": "execute_result"
    },
    {
     "data": {
      "image/png": "[encoded data removed]",
      "text/plain": [
       "<Figure size 432x288 with 1 Axes>"
      ]
     },
     "metadata": {
      "needs_background": "light"
     },
     "output_type": "display_data"
    }
   ],
   "source": [
    "TSLA.plot(x='Date', y = 'Adj Close', title = 'Tesla Adjusted Close Price Change', )"
   ]
  },
  {
   "cell_type": "code",
   "execution_count": 18,
   "metadata": {},
   "outputs": [
    {
     "data": {
      "text/plain": [
       "<matplotlib.axes._subplots.AxesSubplot at 0xb339870>"
      ]
     },
     "execution_count": 18,
     "metadata": {},
     "output_type": "execute_result"
    },
    {
     "data": {
      "image/png": "[encoded data removed]",
      "text/plain": [
       "<Figure size 432x288 with 1 Axes>"
      ]
     },
     "metadata": {
      "needs_background": "light"
     },
     "output_type": "display_data"
    }
   ],
   "source": [
    "TSLA.plot(x = 'Date', y = 'Volume', title = 'Tesla Volume Report')"
   ]
  },
  {
   "cell_type": "code",
   "execution_count": 19,
   "metadata": {},
   "outputs": [],
   "source": [
    "TSLA['Year'] = pd.DatetimeIndex(TSLA['Date']).year"
   ]
  },
  {
   "cell_type": "code",
   "execution_count": 20,
   "metadata": {},
   "outputs": [
    {
     "data": {
      "text/html": [
       "<div>\n",
       "<style scoped>\n",
       "    .dataframe tbody tr th:only-of-type {\n",
       "        vertical-align: middle;\n",
       "    }\n",
       "\n",
       "    .dataframe tbody tr th {\n",
       "        vertical-align: top;\n",
       "    }\n",
       "\n",
       "    .dataframe thead th {\n",
       "        text-align: right;\n",
       "    }\n",
       "</style>\n",
       "<table border=\"1\" class=\"dataframe\">\n",
       "  <thead>\n",
       "    <tr style=\"text-align: right;\">\n",
       "      <th></th>\n",
       "      <th>Open</th>\n",
       "      <th>High</th>\n",
       "      <th>Low</th>\n",
       "      <th>Close</th>\n",
       "      <th>Adj Close</th>\n",
       "      <th>Volume</th>\n",
       "    </tr>\n",
       "    <tr>\n",
       "      <th>Year</th>\n",
       "      <th></th>\n",
       "      <th></th>\n",
       "      <th></th>\n",
       "      <th></th>\n",
       "      <th></th>\n",
       "      <th></th>\n",
       "    </tr>\n",
       "  </thead>\n",
       "  <tbody>\n",
       "    <tr>\n",
       "      <th>2010</th>\n",
       "      <td>4.681600</td>\n",
       "      <td>4.815446</td>\n",
       "      <td>4.529215</td>\n",
       "      <td>4.668369</td>\n",
       "      <td>4.668369</td>\n",
       "      <td>7.898812e+06</td>\n",
       "    </tr>\n",
       "    <tr>\n",
       "      <th>2011</th>\n",
       "      <td>5.364397</td>\n",
       "      <td>5.476048</td>\n",
       "      <td>5.238833</td>\n",
       "      <td>5.360952</td>\n",
       "      <td>5.360952</td>\n",
       "      <td>6.453077e+06</td>\n",
       "    </tr>\n",
       "    <tr>\n",
       "      <th>2012</th>\n",
       "      <td>6.240624</td>\n",
       "      <td>6.361832</td>\n",
       "      <td>6.109176</td>\n",
       "      <td>6.233720</td>\n",
       "      <td>6.233720</td>\n",
       "      <td>6.148980e+06</td>\n",
       "    </tr>\n",
       "    <tr>\n",
       "      <th>2013</th>\n",
       "      <td>20.883286</td>\n",
       "      <td>21.370603</td>\n",
       "      <td>20.355976</td>\n",
       "      <td>20.880246</td>\n",
       "      <td>20.880246</td>\n",
       "      <td>4.203861e+07</td>\n",
       "    </tr>\n",
       "    <tr>\n",
       "      <th>2014</th>\n",
       "      <td>44.683079</td>\n",
       "      <td>45.489976</td>\n",
       "      <td>43.841222</td>\n",
       "      <td>44.665817</td>\n",
       "      <td>44.665817</td>\n",
       "      <td>3.456987e+07</td>\n",
       "    </tr>\n",
       "    <tr>\n",
       "      <th>2015</th>\n",
       "      <td>45.966389</td>\n",
       "      <td>46.676333</td>\n",
       "      <td>45.254127</td>\n",
       "      <td>46.008580</td>\n",
       "      <td>46.008580</td>\n",
       "      <td>2.159162e+07</td>\n",
       "    </tr>\n",
       "    <tr>\n",
       "      <th>2016</th>\n",
       "      <td>42.011690</td>\n",
       "      <td>42.686699</td>\n",
       "      <td>41.257230</td>\n",
       "      <td>41.953452</td>\n",
       "      <td>41.953452</td>\n",
       "      <td>2.306273e+07</td>\n",
       "    </tr>\n",
       "    <tr>\n",
       "      <th>2017</th>\n",
       "      <td>62.859243</td>\n",
       "      <td>63.690119</td>\n",
       "      <td>61.937394</td>\n",
       "      <td>62.863259</td>\n",
       "      <td>62.863259</td>\n",
       "      <td>3.167393e+07</td>\n",
       "    </tr>\n",
       "    <tr>\n",
       "      <th>2018</th>\n",
       "      <td>63.436693</td>\n",
       "      <td>64.738725</td>\n",
       "      <td>62.110462</td>\n",
       "      <td>63.461984</td>\n",
       "      <td>63.461984</td>\n",
       "      <td>4.306053e+07</td>\n",
       "    </tr>\n",
       "    <tr>\n",
       "      <th>2019</th>\n",
       "      <td>54.605627</td>\n",
       "      <td>55.529960</td>\n",
       "      <td>53.722508</td>\n",
       "      <td>54.706040</td>\n",
       "      <td>54.706040</td>\n",
       "      <td>4.579461e+07</td>\n",
       "    </tr>\n",
       "    <tr>\n",
       "      <th>2020</th>\n",
       "      <td>289.108428</td>\n",
       "      <td>297.288412</td>\n",
       "      <td>280.697937</td>\n",
       "      <td>289.997067</td>\n",
       "      <td>289.997067</td>\n",
       "      <td>7.530795e+07</td>\n",
       "    </tr>\n",
       "    <tr>\n",
       "      <th>2021</th>\n",
       "      <td>779.839286</td>\n",
       "      <td>795.731823</td>\n",
       "      <td>762.708136</td>\n",
       "      <td>779.994482</td>\n",
       "      <td>779.994482</td>\n",
       "      <td>2.738758e+07</td>\n",
       "    </tr>\n",
       "    <tr>\n",
       "      <th>2022</th>\n",
       "      <td>937.704667</td>\n",
       "      <td>963.303777</td>\n",
       "      <td>906.066891</td>\n",
       "      <td>932.288888</td>\n",
       "      <td>932.288888</td>\n",
       "      <td>2.768216e+07</td>\n",
       "    </tr>\n",
       "  </tbody>\n",
       "</table>\n",
       "</div>"
      ],
      "text/plain": [
       "            Open        High         Low       Close   Adj Close        Volume\n",
       "Year                                                                          \n",
       "2010    4.681600    4.815446    4.529215    4.668369    4.668369  7.898812e+06\n",
       "2011    5.364397    5.476048    5.238833    5.360952    5.360952  6.453077e+06\n",
       "2012    6.240624    6.361832    6.109176    6.233720    6.233720  6.148980e+06\n",
       "2013   20.883286   21.370603   20.355976   20.880246   20.880246  4.203861e+07\n",
       "2014   44.683079   45.489976   43.841222   44.665817   44.665817  3.456987e+07\n",
       "2015   45.966389   46.676333   45.254127   46.008580   46.008580  2.159162e+07\n",
       "2016   42.011690   42.686699   41.257230   41.953452   41.953452  2.306273e+07\n",
       "2017   62.859243   63.690119   61.937394   62.863259   62.863259  3.167393e+07\n",
       "2018   63.436693   64.738725   62.110462   63.461984   63.461984  4.306053e+07\n",
       "2019   54.605627   55.529960   53.722508   54.706040   54.706040  4.579461e+07\n",
       "2020  289.108428  297.288412  280.697937  289.997067  289.997067  7.530795e+07\n",
       "2021  779.839286  795.731823  762.708136  779.994482  779.994482  2.738758e+07\n",
       "2022  937.704667  963.303777  906.066891  932.288888  932.288888  2.768216e+07"
      ]
     },
     "execution_count": 20,
     "metadata": {},
     "output_type": "execute_result"
    }
   ],
   "source": [
    "group = TSLA.groupby('Year')\n",
    "group.mean()"
   ]
  },
  {
   "cell_type": "code",
   "execution_count": 21,
   "metadata": {},
   "outputs": [
    {
     "name": "stdout",
     "output_type": "stream",
     "text": [
      "Year              2010  2011  2012  2013  2014  2015  2016  2017  2018  2019  \\\n",
      "Date                                                                           \n",
      "2010-06-29  93831500.0   NaN   NaN   NaN   NaN   NaN   NaN   NaN   NaN   NaN   \n",
      "2010-06-30  85935500.0   NaN   NaN   NaN   NaN   NaN   NaN   NaN   NaN   NaN   \n",
      "2010-07-01  41094000.0   NaN   NaN   NaN   NaN   NaN   NaN   NaN   NaN   NaN   \n",
      "2010-07-02  25699000.0   NaN   NaN   NaN   NaN   NaN   NaN   NaN   NaN   NaN   \n",
      "2010-07-06  34334500.0   NaN   NaN   NaN   NaN   NaN   NaN   NaN   NaN   NaN   \n",
      "...                ...   ...   ...   ...   ...   ...   ...   ...   ...   ...   \n",
      "2022-03-02         NaN   NaN   NaN   NaN   NaN   NaN   NaN   NaN   NaN   NaN   \n",
      "2022-03-03         NaN   NaN   NaN   NaN   NaN   NaN   NaN   NaN   NaN   NaN   \n",
      "2022-03-04         NaN   NaN   NaN   NaN   NaN   NaN   NaN   NaN   NaN   NaN   \n",
      "2022-03-07         NaN   NaN   NaN   NaN   NaN   NaN   NaN   NaN   NaN   NaN   \n",
      "2022-03-08         NaN   NaN   NaN   NaN   NaN   NaN   NaN   NaN   NaN   NaN   \n",
      "\n",
      "Year        2020  2021        2022  \n",
      "Date                                \n",
      "2010-06-29   NaN   NaN         NaN  \n",
      "2010-06-30   NaN   NaN         NaN  \n",
      "2010-07-01   NaN   NaN         NaN  \n",
      "2010-07-02   NaN   NaN         NaN  \n",
      "2010-07-06   NaN   NaN         NaN  \n",
      "...          ...   ...         ...  \n",
      "2022-03-02   NaN   NaN  24881100.0  \n",
      "2022-03-03   NaN   NaN  20541200.0  \n",
      "2022-03-04   NaN   NaN  22333200.0  \n",
      "2022-03-07   NaN   NaN  24164700.0  \n",
      "2022-03-08   NaN   NaN  26799700.0  \n",
      "\n",
      "[2944 rows x 13 columns]\n"
     ]
    }
   ],
   "source": [
    "#Create pivor table where Index set as date, cloumns set as year, value set as Volume\n",
    "pivot = TSLA.pivot(index = 'Date', columns ='Year', values = 'Volume')\n",
    "print(pivot)"
   ]
  },
  {
   "cell_type": "code",
   "execution_count": 22,
   "metadata": {},
   "outputs": [
    {
     "data": {
      "text/plain": [
       "<matplotlib.axes._subplots.AxesSubplot at 0xb358eb0>"
      ]
     },
     "execution_count": 22,
     "metadata": {},
     "output_type": "execute_result"
    },
    {
     "data": {
      "image/png": "[encoded data removed]",
      "text/plain": [
       "<Figure size 432x288 with 1 Axes>"
      ]
     },
     "metadata": {
      "needs_background": "light"
     },
     "output_type": "display_data"
    }
   ],
   "source": [
    "pivot.plot()"
   ]
  },
  {
   "cell_type": "markdown",
   "metadata": {},
   "source": [
    "Discussion\n",
    "From the plots of Adj close, there is an increasing trend for Tesla's stock price for the past 12 years. \n",
    "From the pivot table and plots for the volumes, 2020 has a very high volume of trading, and 2012 has relatively low trading volumes. "
   ]
  },
  {
   "cell_type": "code",
   "execution_count": null,
   "metadata": {},
   "outputs": [],
   "source": []
  }
 ],
 "metadata": {
  "kernelspec": {
   "display_name": "Python 3",
   "language": "python",
   "name": "python3"
  },
  "language_info": {
   "codemirror_mode": {
    "name": "ipython",
    "version": 3
   },
   "file_extension": ".py",
   "mimetype": "text/x-python",
   "name": "python",
   "nbconvert_exporter": "python",
   "pygments_lexer": "ipython3",
   "version": "3.7.6"
  }
 },
 "nbformat": 4,
 "nbformat_minor": 4
}
